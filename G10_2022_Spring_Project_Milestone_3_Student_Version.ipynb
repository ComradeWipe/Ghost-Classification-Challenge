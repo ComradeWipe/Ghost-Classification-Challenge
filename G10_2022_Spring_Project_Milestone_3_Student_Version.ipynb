{
  "nbformat": 4,
  "nbformat_minor": 0,
  "metadata": {
    "colab": {
      "provenance": []
    },
    "kernelspec": {
      "name": "python3",
      "display_name": "Python 3"
    },
    "language_info": {
      "name": "python"
    }
  },
  "cells": [
    {
      "cell_type": "markdown",
      "metadata": {
        "id": "1sSo8VC5rjcd"
      },
      "source": [
        "# AI Project\n",
        "***\n",
        "## Administration and Rules:\n",
        "\n",
        "Greetings, this is the first project in our project series. Generally, projects are larger problem sets, and contain more open-ended questions. You will be given some general guidelines and are allowed to explore more freely.\n",
        "\n",
        "* **Guideline** In your submitted version\n",
        "    * This project is divided into 5 parts.\n",
        "        * For each part, you will be given a separate deadline.\n",
        "        * Upon the deadline of each part, a sample analysis of this previous part will be released for you as your starting point for the next parts. (Think of this as Checkpoints in gaming)\n",
        "        * So, start early!\n",
        "\n",
        "    \n",
        "* **How to submit:**\n",
        "    * Submit on Google Classroom"
      ]
    },
    {
      "cell_type": "markdown",
      "metadata": {
        "id": "tz8i_Mearjci"
      },
      "source": [
        "***\n",
        "## Introduction\n",
        "In this project, you will be using a dataset called \"Ghouls Goblins and Ghosts\"\n",
        "\n",
        "### Context\n",
        "After a month of making scientific observations and taking careful measurements, we’ve determined that 900 ghouls, ghosts, and goblins are infesting our halls and frightening our fellow teachers and students here at Pinghe School. When trying garlic, asking politely, and using reverse psychology didn't work, it became clear that machine learning is the only answer to banishing our unwanted guests.\n",
        "\n",
        "![halloween-660x.png](https://i.loli.net/2020/05/24/WeOE4TFNJp3DQnm.png)\n",
        "\n",
        "So now the hour has come to put the data we’ve collected in your hands. We’ve managed to identify 371 of the ghastly creatures, but need your help to vanquish the rest. And only an accurate classification algorithm can thwart them. Use bone length measurements, severity of rot, extent of soullessness, and other characteristics to distinguish (and extinguish) the intruders. Are you ghost-busters up for the challenge?\n",
        "\n",
        "### Dataset\n",
        "Dataset file:\n",
        "* Train: https://drive.google.com/file/d/1A7kgIjEruZv3qWbNl5kWzP5xRQbZmou5/view?usp=sharing\n",
        "* Test: https://drive.google.com/file/d/1UhYjXWwH5L4BzUPWB9Iq5wO05_2SyMdm/view?usp=sharing\n",
        "\n",
        "File descriptions\n",
        "* `train.csv` - the training set, which contains both features and labels (target variables)\n",
        "* `test.csv` - the test set, which contains only features and your job is to predict the types\n",
        "\n",
        "Data fields\n",
        "* id - id of the creature\n",
        "* bone_length - average length of bone in the creature, normalized between 0 and 1\n",
        "* rotting_flesh - percentage of rotting flesh in the creature\n",
        "* hair_length - average hair length, normalized between 0 and 1\n",
        "* has_soul - percentage of soul in the creature\n",
        "* color - dominant color of the creature: 'white','black','clear','blue','green','blood'\n",
        "* type - target variable: 'Ghost', 'Goblin', and 'Ghoul'\n",
        "\n",
        "### Goal\n",
        "Predict the types of the spooky creatures!"
      ]
    },
    {
      "cell_type": "markdown",
      "metadata": {
        "id": "qs9rL8pRdEeo"
      },
      "source": [
        "***\n",
        "## Project Milestone 0 - Starter\n",
        "\n",
        "Make sure you can run this starter"
      ]
    },
    {
      "cell_type": "code",
      "metadata": {
        "id": "lf7xWJfPdRPV"
      },
      "source": [
        "# Import libraries\n",
        "import numpy as np\n",
        "import pandas as pd"
      ],
      "execution_count": null,
      "outputs": []
    },
    {
      "cell_type": "markdown",
      "metadata": {
        "id": "Z5o038XXd0dp"
      },
      "source": [
        "In google colab, loading data is a little bit different, we need to first mount the drive"
      ]
    },
    {
      "cell_type": "code",
      "metadata": {
        "colab": {
          "base_uri": "https://localhost:8080/"
        },
        "id": "Fs1YoazpddRZ",
        "outputId": "6681c123-a9f1-4804-95e1-9524bcd834b5"
      },
      "source": [
        "# Mount the drive\n",
        "from google.colab import drive\n",
        "drive.mount('/content/drive')"
      ],
      "execution_count": null,
      "outputs": [
        {
          "output_type": "stream",
          "name": "stdout",
          "text": [
            "Drive already mounted at /content/drive; to attempt to forcibly remount, call drive.mount(\"/content/drive\", force_remount=True).\n"
          ]
        }
      ]
    },
    {
      "cell_type": "markdown",
      "metadata": {
        "id": "hczkcUhMd-2D"
      },
      "source": [
        "Save a shortcut copy of the dataset onto your own drive\n",
        "* Data: https://drive.google.com/file/d/1A7kgIjEruZv3qWbNl5kWzP5xRQbZmou5/view?usp=sharing"
      ]
    },
    {
      "cell_type": "code",
      "metadata": {
        "colab": {
          "base_uri": "https://localhost:8080/",
          "height": 206
        },
        "id": "KxEQlieveMF9",
        "outputId": "be48ed12-6089-4d5c-95a4-57f6be82c679"
      },
      "source": [
        "# Load dataset\n",
        "\n",
        "df = pd.read_csv('/content/drive/MyDrive/train.csv')\n",
        "df.head()"
      ],
      "execution_count": null,
      "outputs": [
        {
          "output_type": "execute_result",
          "data": {
            "text/plain": [
              "   id  bone_length  rotting_flesh  hair_length  has_soul  color    type\n",
              "0   0     0.354512       0.350839     0.465761  0.781142  clear   Ghoul\n",
              "1   1     0.575560       0.425868     0.531401  0.439899  green  Goblin\n",
              "2   2     0.467875       0.354330     0.811616  0.791225  black   Ghoul\n",
              "3   4     0.776652       0.508723     0.636766  0.884464  black   Ghoul\n",
              "4   5     0.566117       0.875862     0.418594  0.636438  green   Ghost"
            ],
            "text/html": [
              "\n",
              "  <div id=\"df-efce1d2c-ca47-4a8a-948c-40cda68e2d5a\">\n",
              "    <div class=\"colab-df-container\">\n",
              "      <div>\n",
              "<style scoped>\n",
              "    .dataframe tbody tr th:only-of-type {\n",
              "        vertical-align: middle;\n",
              "    }\n",
              "\n",
              "    .dataframe tbody tr th {\n",
              "        vertical-align: top;\n",
              "    }\n",
              "\n",
              "    .dataframe thead th {\n",
              "        text-align: right;\n",
              "    }\n",
              "</style>\n",
              "<table border=\"1\" class=\"dataframe\">\n",
              "  <thead>\n",
              "    <tr style=\"text-align: right;\">\n",
              "      <th></th>\n",
              "      <th>id</th>\n",
              "      <th>bone_length</th>\n",
              "      <th>rotting_flesh</th>\n",
              "      <th>hair_length</th>\n",
              "      <th>has_soul</th>\n",
              "      <th>color</th>\n",
              "      <th>type</th>\n",
              "    </tr>\n",
              "  </thead>\n",
              "  <tbody>\n",
              "    <tr>\n",
              "      <th>0</th>\n",
              "      <td>0</td>\n",
              "      <td>0.354512</td>\n",
              "      <td>0.350839</td>\n",
              "      <td>0.465761</td>\n",
              "      <td>0.781142</td>\n",
              "      <td>clear</td>\n",
              "      <td>Ghoul</td>\n",
              "    </tr>\n",
              "    <tr>\n",
              "      <th>1</th>\n",
              "      <td>1</td>\n",
              "      <td>0.575560</td>\n",
              "      <td>0.425868</td>\n",
              "      <td>0.531401</td>\n",
              "      <td>0.439899</td>\n",
              "      <td>green</td>\n",
              "      <td>Goblin</td>\n",
              "    </tr>\n",
              "    <tr>\n",
              "      <th>2</th>\n",
              "      <td>2</td>\n",
              "      <td>0.467875</td>\n",
              "      <td>0.354330</td>\n",
              "      <td>0.811616</td>\n",
              "      <td>0.791225</td>\n",
              "      <td>black</td>\n",
              "      <td>Ghoul</td>\n",
              "    </tr>\n",
              "    <tr>\n",
              "      <th>3</th>\n",
              "      <td>4</td>\n",
              "      <td>0.776652</td>\n",
              "      <td>0.508723</td>\n",
              "      <td>0.636766</td>\n",
              "      <td>0.884464</td>\n",
              "      <td>black</td>\n",
              "      <td>Ghoul</td>\n",
              "    </tr>\n",
              "    <tr>\n",
              "      <th>4</th>\n",
              "      <td>5</td>\n",
              "      <td>0.566117</td>\n",
              "      <td>0.875862</td>\n",
              "      <td>0.418594</td>\n",
              "      <td>0.636438</td>\n",
              "      <td>green</td>\n",
              "      <td>Ghost</td>\n",
              "    </tr>\n",
              "  </tbody>\n",
              "</table>\n",
              "</div>\n",
              "      <button class=\"colab-df-convert\" onclick=\"convertToInteractive('df-efce1d2c-ca47-4a8a-948c-40cda68e2d5a')\"\n",
              "              title=\"Convert this dataframe to an interactive table.\"\n",
              "              style=\"display:none;\">\n",
              "        \n",
              "  <svg xmlns=\"http://www.w3.org/2000/svg\" height=\"24px\"viewBox=\"0 0 24 24\"\n",
              "       width=\"24px\">\n",
              "    <path d=\"M0 0h24v24H0V0z\" fill=\"none\"/>\n",
              "    <path d=\"M18.56 5.44l.94 2.06.94-2.06 2.06-.94-2.06-.94-.94-2.06-.94 2.06-2.06.94zm-11 1L8.5 8.5l.94-2.06 2.06-.94-2.06-.94L8.5 2.5l-.94 2.06-2.06.94zm10 10l.94 2.06.94-2.06 2.06-.94-2.06-.94-.94-2.06-.94 2.06-2.06.94z\"/><path d=\"M17.41 7.96l-1.37-1.37c-.4-.4-.92-.59-1.43-.59-.52 0-1.04.2-1.43.59L10.3 9.45l-7.72 7.72c-.78.78-.78 2.05 0 2.83L4 21.41c.39.39.9.59 1.41.59.51 0 1.02-.2 1.41-.59l7.78-7.78 2.81-2.81c.8-.78.8-2.07 0-2.86zM5.41 20L4 18.59l7.72-7.72 1.47 1.35L5.41 20z\"/>\n",
              "  </svg>\n",
              "      </button>\n",
              "      \n",
              "  <style>\n",
              "    .colab-df-container {\n",
              "      display:flex;\n",
              "      flex-wrap:wrap;\n",
              "      gap: 12px;\n",
              "    }\n",
              "\n",
              "    .colab-df-convert {\n",
              "      background-color: #E8F0FE;\n",
              "      border: none;\n",
              "      border-radius: 50%;\n",
              "      cursor: pointer;\n",
              "      display: none;\n",
              "      fill: #1967D2;\n",
              "      height: 32px;\n",
              "      padding: 0 0 0 0;\n",
              "      width: 32px;\n",
              "    }\n",
              "\n",
              "    .colab-df-convert:hover {\n",
              "      background-color: #E2EBFA;\n",
              "      box-shadow: 0px 1px 2px rgba(60, 64, 67, 0.3), 0px 1px 3px 1px rgba(60, 64, 67, 0.15);\n",
              "      fill: #174EA6;\n",
              "    }\n",
              "\n",
              "    [theme=dark] .colab-df-convert {\n",
              "      background-color: #3B4455;\n",
              "      fill: #D2E3FC;\n",
              "    }\n",
              "\n",
              "    [theme=dark] .colab-df-convert:hover {\n",
              "      background-color: #434B5C;\n",
              "      box-shadow: 0px 1px 3px 1px rgba(0, 0, 0, 0.15);\n",
              "      filter: drop-shadow(0px 1px 2px rgba(0, 0, 0, 0.3));\n",
              "      fill: #FFFFFF;\n",
              "    }\n",
              "  </style>\n",
              "\n",
              "      <script>\n",
              "        const buttonEl =\n",
              "          document.querySelector('#df-efce1d2c-ca47-4a8a-948c-40cda68e2d5a button.colab-df-convert');\n",
              "        buttonEl.style.display =\n",
              "          google.colab.kernel.accessAllowed ? 'block' : 'none';\n",
              "\n",
              "        async function convertToInteractive(key) {\n",
              "          const element = document.querySelector('#df-efce1d2c-ca47-4a8a-948c-40cda68e2d5a');\n",
              "          const dataTable =\n",
              "            await google.colab.kernel.invokeFunction('convertToInteractive',\n",
              "                                                     [key], {});\n",
              "          if (!dataTable) return;\n",
              "\n",
              "          const docLinkHtml = 'Like what you see? Visit the ' +\n",
              "            '<a target=\"_blank\" href=https://colab.research.google.com/notebooks/data_table.ipynb>data table notebook</a>'\n",
              "            + ' to learn more about interactive tables.';\n",
              "          element.innerHTML = '';\n",
              "          dataTable['output_type'] = 'display_data';\n",
              "          await google.colab.output.renderOutput(dataTable, element);\n",
              "          const docLink = document.createElement('div');\n",
              "          docLink.innerHTML = docLinkHtml;\n",
              "          element.appendChild(docLink);\n",
              "        }\n",
              "      </script>\n",
              "    </div>\n",
              "  </div>\n",
              "  "
            ]
          },
          "metadata": {},
          "execution_count": 3
        }
      ]
    },
    {
      "cell_type": "markdown",
      "metadata": {
        "id": "n9H2LG68fElc"
      },
      "source": [
        "## Congratulations to have successfully run the Project Starter!"
      ]
    },
    {
      "cell_type": "markdown",
      "metadata": {
        "id": "UTjjrJ9drjcj"
      },
      "source": [
        "***\n",
        "## Project Milestone #1 (31 points)\n",
        "\n",
        "\n",
        "This is the first portion of the project, you are asked to explore the dataset using the tools we have learned in class so far."
      ]
    },
    {
      "cell_type": "markdown",
      "metadata": {
        "id": "8nb3TH8irjck"
      },
      "source": [
        "### Question 1.1 (7 points)\n",
        "Get started:\n",
        "* Import the libraries **(2 point)**\n",
        "* Import the data: both the training set and the test set **(2 point)**\n",
        "* Take a quick look at the dataset, are there any missing values? **(3 points)**"
      ]
    },
    {
      "cell_type": "code",
      "metadata": {
        "id": "faGhX2aJrjck"
      },
      "source": [
        "# Import the libraries, expand the list as needed\n",
        "import numpy as np\n",
        "import pandas as pd\n",
        "from sklearn.model_selection import train_test_split\n",
        "from sklearn.preprocessing import StandardScaler\n",
        "from sklearn.linear_model import LogisticRegression\n",
        "from sklearn.metrics import confusion_matrix\n",
        "from sklearn.metrics import r2_score\n",
        "from sklearn.linear_model import LinearRegression"
      ],
      "execution_count": null,
      "outputs": []
    },
    {
      "cell_type": "markdown",
      "metadata": {
        "id": "w9u4bBeurMFA"
      },
      "source": [
        "#### Import the training set**(1 point)**\n",
        "Dataset file:\n",
        "* Train: https://drive.google.com/file/d/1A7kgIjEruZv3qWbNl5kWzP5xRQbZmou5/view?usp=sharing"
      ]
    },
    {
      "cell_type": "code",
      "metadata": {
        "id": "wtw77rnhujBr",
        "colab": {
          "base_uri": "https://localhost:8080/"
        },
        "outputId": "4937b871-2c5d-4125-a333-7fbdcae1cdc8"
      },
      "source": [
        "# Mount the drive\n",
        "from google.colab import drive\n",
        "drive.mount('/content/drive')"
      ],
      "execution_count": null,
      "outputs": [
        {
          "output_type": "stream",
          "name": "stdout",
          "text": [
            "Drive already mounted at /content/drive; to attempt to forcibly remount, call drive.mount(\"/content/drive\", force_remount=True).\n"
          ]
        }
      ]
    },
    {
      "cell_type": "code",
      "metadata": {
        "id": "sE9lNak5rjcl",
        "colab": {
          "base_uri": "https://localhost:8080/",
          "height": 223
        },
        "outputId": "7d4b4a53-6b06-40cd-997d-adad17a5ca10"
      },
      "source": [
        "# Read in the training set\n",
        "train=pd.read_csv('/content/drive/MyDrive/train.csv')\n",
        "\n",
        "# print the shapes of the training set\n",
        "print(train.shape)\n",
        "\n",
        "# show the head of the training set\n",
        "train.head()"
      ],
      "execution_count": null,
      "outputs": [
        {
          "output_type": "stream",
          "name": "stdout",
          "text": [
            "(371, 7)\n"
          ]
        },
        {
          "output_type": "execute_result",
          "data": {
            "text/plain": [
              "   id  bone_length  rotting_flesh  hair_length  has_soul  color    type\n",
              "0   0     0.354512       0.350839     0.465761  0.781142  clear   Ghoul\n",
              "1   1     0.575560       0.425868     0.531401  0.439899  green  Goblin\n",
              "2   2     0.467875       0.354330     0.811616  0.791225  black   Ghoul\n",
              "3   4     0.776652       0.508723     0.636766  0.884464  black   Ghoul\n",
              "4   5     0.566117       0.875862     0.418594  0.636438  green   Ghost"
            ],
            "text/html": [
              "\n",
              "  <div id=\"df-2b2f3a0a-d774-4829-926e-23105d9fbfbd\">\n",
              "    <div class=\"colab-df-container\">\n",
              "      <div>\n",
              "<style scoped>\n",
              "    .dataframe tbody tr th:only-of-type {\n",
              "        vertical-align: middle;\n",
              "    }\n",
              "\n",
              "    .dataframe tbody tr th {\n",
              "        vertical-align: top;\n",
              "    }\n",
              "\n",
              "    .dataframe thead th {\n",
              "        text-align: right;\n",
              "    }\n",
              "</style>\n",
              "<table border=\"1\" class=\"dataframe\">\n",
              "  <thead>\n",
              "    <tr style=\"text-align: right;\">\n",
              "      <th></th>\n",
              "      <th>id</th>\n",
              "      <th>bone_length</th>\n",
              "      <th>rotting_flesh</th>\n",
              "      <th>hair_length</th>\n",
              "      <th>has_soul</th>\n",
              "      <th>color</th>\n",
              "      <th>type</th>\n",
              "    </tr>\n",
              "  </thead>\n",
              "  <tbody>\n",
              "    <tr>\n",
              "      <th>0</th>\n",
              "      <td>0</td>\n",
              "      <td>0.354512</td>\n",
              "      <td>0.350839</td>\n",
              "      <td>0.465761</td>\n",
              "      <td>0.781142</td>\n",
              "      <td>clear</td>\n",
              "      <td>Ghoul</td>\n",
              "    </tr>\n",
              "    <tr>\n",
              "      <th>1</th>\n",
              "      <td>1</td>\n",
              "      <td>0.575560</td>\n",
              "      <td>0.425868</td>\n",
              "      <td>0.531401</td>\n",
              "      <td>0.439899</td>\n",
              "      <td>green</td>\n",
              "      <td>Goblin</td>\n",
              "    </tr>\n",
              "    <tr>\n",
              "      <th>2</th>\n",
              "      <td>2</td>\n",
              "      <td>0.467875</td>\n",
              "      <td>0.354330</td>\n",
              "      <td>0.811616</td>\n",
              "      <td>0.791225</td>\n",
              "      <td>black</td>\n",
              "      <td>Ghoul</td>\n",
              "    </tr>\n",
              "    <tr>\n",
              "      <th>3</th>\n",
              "      <td>4</td>\n",
              "      <td>0.776652</td>\n",
              "      <td>0.508723</td>\n",
              "      <td>0.636766</td>\n",
              "      <td>0.884464</td>\n",
              "      <td>black</td>\n",
              "      <td>Ghoul</td>\n",
              "    </tr>\n",
              "    <tr>\n",
              "      <th>4</th>\n",
              "      <td>5</td>\n",
              "      <td>0.566117</td>\n",
              "      <td>0.875862</td>\n",
              "      <td>0.418594</td>\n",
              "      <td>0.636438</td>\n",
              "      <td>green</td>\n",
              "      <td>Ghost</td>\n",
              "    </tr>\n",
              "  </tbody>\n",
              "</table>\n",
              "</div>\n",
              "      <button class=\"colab-df-convert\" onclick=\"convertToInteractive('df-2b2f3a0a-d774-4829-926e-23105d9fbfbd')\"\n",
              "              title=\"Convert this dataframe to an interactive table.\"\n",
              "              style=\"display:none;\">\n",
              "        \n",
              "  <svg xmlns=\"http://www.w3.org/2000/svg\" height=\"24px\"viewBox=\"0 0 24 24\"\n",
              "       width=\"24px\">\n",
              "    <path d=\"M0 0h24v24H0V0z\" fill=\"none\"/>\n",
              "    <path d=\"M18.56 5.44l.94 2.06.94-2.06 2.06-.94-2.06-.94-.94-2.06-.94 2.06-2.06.94zm-11 1L8.5 8.5l.94-2.06 2.06-.94-2.06-.94L8.5 2.5l-.94 2.06-2.06.94zm10 10l.94 2.06.94-2.06 2.06-.94-2.06-.94-.94-2.06-.94 2.06-2.06.94z\"/><path d=\"M17.41 7.96l-1.37-1.37c-.4-.4-.92-.59-1.43-.59-.52 0-1.04.2-1.43.59L10.3 9.45l-7.72 7.72c-.78.78-.78 2.05 0 2.83L4 21.41c.39.39.9.59 1.41.59.51 0 1.02-.2 1.41-.59l7.78-7.78 2.81-2.81c.8-.78.8-2.07 0-2.86zM5.41 20L4 18.59l7.72-7.72 1.47 1.35L5.41 20z\"/>\n",
              "  </svg>\n",
              "      </button>\n",
              "      \n",
              "  <style>\n",
              "    .colab-df-container {\n",
              "      display:flex;\n",
              "      flex-wrap:wrap;\n",
              "      gap: 12px;\n",
              "    }\n",
              "\n",
              "    .colab-df-convert {\n",
              "      background-color: #E8F0FE;\n",
              "      border: none;\n",
              "      border-radius: 50%;\n",
              "      cursor: pointer;\n",
              "      display: none;\n",
              "      fill: #1967D2;\n",
              "      height: 32px;\n",
              "      padding: 0 0 0 0;\n",
              "      width: 32px;\n",
              "    }\n",
              "\n",
              "    .colab-df-convert:hover {\n",
              "      background-color: #E2EBFA;\n",
              "      box-shadow: 0px 1px 2px rgba(60, 64, 67, 0.3), 0px 1px 3px 1px rgba(60, 64, 67, 0.15);\n",
              "      fill: #174EA6;\n",
              "    }\n",
              "\n",
              "    [theme=dark] .colab-df-convert {\n",
              "      background-color: #3B4455;\n",
              "      fill: #D2E3FC;\n",
              "    }\n",
              "\n",
              "    [theme=dark] .colab-df-convert:hover {\n",
              "      background-color: #434B5C;\n",
              "      box-shadow: 0px 1px 3px 1px rgba(0, 0, 0, 0.15);\n",
              "      filter: drop-shadow(0px 1px 2px rgba(0, 0, 0, 0.3));\n",
              "      fill: #FFFFFF;\n",
              "    }\n",
              "  </style>\n",
              "\n",
              "      <script>\n",
              "        const buttonEl =\n",
              "          document.querySelector('#df-2b2f3a0a-d774-4829-926e-23105d9fbfbd button.colab-df-convert');\n",
              "        buttonEl.style.display =\n",
              "          google.colab.kernel.accessAllowed ? 'block' : 'none';\n",
              "\n",
              "        async function convertToInteractive(key) {\n",
              "          const element = document.querySelector('#df-2b2f3a0a-d774-4829-926e-23105d9fbfbd');\n",
              "          const dataTable =\n",
              "            await google.colab.kernel.invokeFunction('convertToInteractive',\n",
              "                                                     [key], {});\n",
              "          if (!dataTable) return;\n",
              "\n",
              "          const docLinkHtml = 'Like what you see? Visit the ' +\n",
              "            '<a target=\"_blank\" href=https://colab.research.google.com/notebooks/data_table.ipynb>data table notebook</a>'\n",
              "            + ' to learn more about interactive tables.';\n",
              "          element.innerHTML = '';\n",
              "          dataTable['output_type'] = 'display_data';\n",
              "          await google.colab.output.renderOutput(dataTable, element);\n",
              "          const docLink = document.createElement('div');\n",
              "          docLink.innerHTML = docLinkHtml;\n",
              "          element.appendChild(docLink);\n",
              "        }\n",
              "      </script>\n",
              "    </div>\n",
              "  </div>\n",
              "  "
            ]
          },
          "metadata": {},
          "execution_count": 6
        }
      ]
    },
    {
      "cell_type": "code",
      "metadata": {
        "id": "tooi9sQlrjcm",
        "colab": {
          "base_uri": "https://localhost:8080/"
        },
        "outputId": "c5b744d8-6f31-49a8-ef3f-ba6bb7a530db"
      },
      "source": [
        "# Let's check if there are any missing Values\n",
        "train.isnull().sum()"
      ],
      "execution_count": null,
      "outputs": [
        {
          "output_type": "execute_result",
          "data": {
            "text/plain": [
              "id               0\n",
              "bone_length      0\n",
              "rotting_flesh    0\n",
              "hair_length      0\n",
              "has_soul         0\n",
              "color            0\n",
              "type             0\n",
              "dtype: int64"
            ]
          },
          "metadata": {},
          "execution_count": 7
        }
      ]
    },
    {
      "cell_type": "markdown",
      "metadata": {
        "id": "Z1A8RxGKrjcm"
      },
      "source": [
        "**Answer:** Our data set does not have any missing nor null/na values. We are good to proceed."
      ]
    },
    {
      "cell_type": "markdown",
      "metadata": {
        "id": "50WmD36Grjcr"
      },
      "source": [
        "### Question 1.2 **(12 points)**\n",
        "* What types of data are the features? Which are Quantitative and which are Qualitative? **(2 points)**\n",
        "* For the qualitative feature(s), perform a One-hot-encoding to transform it into separate columns for each category. Augment these new columns into the your `DataFrame` as new features. **(6 points)**\n",
        "* Drop features that you think are either irrelavant or redundant and store features and types into separate variables (for both train and test set), so 3 variables in total (you do not observe targets for the test set). **(4 points)**"
      ]
    },
    {
      "cell_type": "markdown",
      "metadata": {
        "id": "nwz6WH2trjcr"
      },
      "source": [
        "#### What types of data are the features? Which are Quantitative and which are Qualitative? **(2 points)**\n",
        "\n",
        "**Answer:** From our previous exploration, the `Color` variable is categorical while the other features are all quantitative. Next, let's encode the `'Color'` feature before visualization. Right now, we will use a LabelEncoder to change the colors from text to integers of 0, 1, 2, 3, 4, 5"
      ]
    },
    {
      "cell_type": "markdown",
      "metadata": {
        "id": "fR13LQ-usgme"
      },
      "source": [
        "#### For the qualitative feature(s), perform a One-hot-encoding to transform it into separate columns for each category. Augment these new columns into the your `DataFrame` as new features. **(6 points)**"
      ]
    },
    {
      "cell_type": "code",
      "metadata": {
        "id": "Rucq7BRfrjcs"
      },
      "source": [
        "# Let's do a one-hot encoding for the Color variable\n",
        "Onehot=pd.get_dummies(df[\"color\"])\n"
      ],
      "execution_count": null,
      "outputs": []
    },
    {
      "cell_type": "code",
      "metadata": {
        "id": "1MJFxObWv-j7"
      },
      "source": [
        "# use pd.concat to get augmented DataFrame\n",
        "train2=pd.concat([train,Onehot],axis=1)"
      ],
      "execution_count": null,
      "outputs": []
    },
    {
      "cell_type": "markdown",
      "metadata": {
        "id": "gCB3v5vzrjcs"
      },
      "source": [
        "**Answer:** we have finished one-hot-encoding for the `Color` variable"
      ]
    },
    {
      "cell_type": "markdown",
      "metadata": {
        "id": "tVka9t9stGLK"
      },
      "source": [
        "####  Drop features that you think are either irrelavant or redundant and store features and types into separate variables, so you should have two variables ready `train_features` and `train_target`. **(4 points)**"
      ]
    },
    {
      "cell_type": "code",
      "metadata": {
        "id": "vb6Ri_tQrjct"
      },
      "source": [
        "# First define your target variable y\n",
        "train_features=train2.drop([\"type\"],axis=1)\n",
        "train_target=train2[\"type\"]\n",
        "true_train_target=train_target.copy()\n",
        "train_ghoul=train_target.copy()\n",
        "train_goblin=train_target.copy()"
      ],
      "execution_count": null,
      "outputs": []
    },
    {
      "cell_type": "markdown",
      "metadata": {
        "id": "RuMyXguYwjLs"
      },
      "source": [
        "Your training features `train_features` should look like this\n",
        "![image.png](https://i.loli.net/2021/04/29/PjbAqUVOzvcRDX2.png)"
      ]
    },
    {
      "cell_type": "code",
      "source": [
        "train_features"
      ],
      "metadata": {
        "colab": {
          "base_uri": "https://localhost:8080/",
          "height": 424
        },
        "id": "NRlSTtMOXdca",
        "outputId": "7eea5085-0f11-4b15-aa74-87b09982089e"
      },
      "execution_count": null,
      "outputs": [
        {
          "output_type": "execute_result",
          "data": {
            "text/plain": [
              "      id  bone_length  rotting_flesh  hair_length  has_soul  color  black  \\\n",
              "0      0     0.354512       0.350839     0.465761  0.781142  clear      0   \n",
              "1      1     0.575560       0.425868     0.531401  0.439899  green      0   \n",
              "2      2     0.467875       0.354330     0.811616  0.791225  black      1   \n",
              "3      4     0.776652       0.508723     0.636766  0.884464  black      1   \n",
              "4      5     0.566117       0.875862     0.418594  0.636438  green      0   \n",
              "..   ...          ...            ...          ...       ...    ...    ...   \n",
              "366  886     0.458132       0.391760     0.660590  0.635689   blue      0   \n",
              "367  889     0.331936       0.564836     0.539216  0.551471  green      0   \n",
              "368  890     0.481640       0.501147     0.496446  0.544003  clear      0   \n",
              "369  896     0.294943       0.771286     0.583503  0.300618  clear      0   \n",
              "370  897     0.670200       0.768469     0.737274  0.608384  white      0   \n",
              "\n",
              "     blood  blue  clear  green  white  \n",
              "0        0     0      1      0      0  \n",
              "1        0     0      0      1      0  \n",
              "2        0     0      0      0      0  \n",
              "3        0     0      0      0      0  \n",
              "4        0     0      0      1      0  \n",
              "..     ...   ...    ...    ...    ...  \n",
              "366      0     1      0      0      0  \n",
              "367      0     0      0      1      0  \n",
              "368      0     0      1      0      0  \n",
              "369      0     0      1      0      0  \n",
              "370      0     0      0      0      1  \n",
              "\n",
              "[371 rows x 12 columns]"
            ],
            "text/html": [
              "\n",
              "  <div id=\"df-28893acc-18c6-4e29-86a0-a05019255c3f\">\n",
              "    <div class=\"colab-df-container\">\n",
              "      <div>\n",
              "<style scoped>\n",
              "    .dataframe tbody tr th:only-of-type {\n",
              "        vertical-align: middle;\n",
              "    }\n",
              "\n",
              "    .dataframe tbody tr th {\n",
              "        vertical-align: top;\n",
              "    }\n",
              "\n",
              "    .dataframe thead th {\n",
              "        text-align: right;\n",
              "    }\n",
              "</style>\n",
              "<table border=\"1\" class=\"dataframe\">\n",
              "  <thead>\n",
              "    <tr style=\"text-align: right;\">\n",
              "      <th></th>\n",
              "      <th>id</th>\n",
              "      <th>bone_length</th>\n",
              "      <th>rotting_flesh</th>\n",
              "      <th>hair_length</th>\n",
              "      <th>has_soul</th>\n",
              "      <th>color</th>\n",
              "      <th>black</th>\n",
              "      <th>blood</th>\n",
              "      <th>blue</th>\n",
              "      <th>clear</th>\n",
              "      <th>green</th>\n",
              "      <th>white</th>\n",
              "    </tr>\n",
              "  </thead>\n",
              "  <tbody>\n",
              "    <tr>\n",
              "      <th>0</th>\n",
              "      <td>0</td>\n",
              "      <td>0.354512</td>\n",
              "      <td>0.350839</td>\n",
              "      <td>0.465761</td>\n",
              "      <td>0.781142</td>\n",
              "      <td>clear</td>\n",
              "      <td>0</td>\n",
              "      <td>0</td>\n",
              "      <td>0</td>\n",
              "      <td>1</td>\n",
              "      <td>0</td>\n",
              "      <td>0</td>\n",
              "    </tr>\n",
              "    <tr>\n",
              "      <th>1</th>\n",
              "      <td>1</td>\n",
              "      <td>0.575560</td>\n",
              "      <td>0.425868</td>\n",
              "      <td>0.531401</td>\n",
              "      <td>0.439899</td>\n",
              "      <td>green</td>\n",
              "      <td>0</td>\n",
              "      <td>0</td>\n",
              "      <td>0</td>\n",
              "      <td>0</td>\n",
              "      <td>1</td>\n",
              "      <td>0</td>\n",
              "    </tr>\n",
              "    <tr>\n",
              "      <th>2</th>\n",
              "      <td>2</td>\n",
              "      <td>0.467875</td>\n",
              "      <td>0.354330</td>\n",
              "      <td>0.811616</td>\n",
              "      <td>0.791225</td>\n",
              "      <td>black</td>\n",
              "      <td>1</td>\n",
              "      <td>0</td>\n",
              "      <td>0</td>\n",
              "      <td>0</td>\n",
              "      <td>0</td>\n",
              "      <td>0</td>\n",
              "    </tr>\n",
              "    <tr>\n",
              "      <th>3</th>\n",
              "      <td>4</td>\n",
              "      <td>0.776652</td>\n",
              "      <td>0.508723</td>\n",
              "      <td>0.636766</td>\n",
              "      <td>0.884464</td>\n",
              "      <td>black</td>\n",
              "      <td>1</td>\n",
              "      <td>0</td>\n",
              "      <td>0</td>\n",
              "      <td>0</td>\n",
              "      <td>0</td>\n",
              "      <td>0</td>\n",
              "    </tr>\n",
              "    <tr>\n",
              "      <th>4</th>\n",
              "      <td>5</td>\n",
              "      <td>0.566117</td>\n",
              "      <td>0.875862</td>\n",
              "      <td>0.418594</td>\n",
              "      <td>0.636438</td>\n",
              "      <td>green</td>\n",
              "      <td>0</td>\n",
              "      <td>0</td>\n",
              "      <td>0</td>\n",
              "      <td>0</td>\n",
              "      <td>1</td>\n",
              "      <td>0</td>\n",
              "    </tr>\n",
              "    <tr>\n",
              "      <th>...</th>\n",
              "      <td>...</td>\n",
              "      <td>...</td>\n",
              "      <td>...</td>\n",
              "      <td>...</td>\n",
              "      <td>...</td>\n",
              "      <td>...</td>\n",
              "      <td>...</td>\n",
              "      <td>...</td>\n",
              "      <td>...</td>\n",
              "      <td>...</td>\n",
              "      <td>...</td>\n",
              "      <td>...</td>\n",
              "    </tr>\n",
              "    <tr>\n",
              "      <th>366</th>\n",
              "      <td>886</td>\n",
              "      <td>0.458132</td>\n",
              "      <td>0.391760</td>\n",
              "      <td>0.660590</td>\n",
              "      <td>0.635689</td>\n",
              "      <td>blue</td>\n",
              "      <td>0</td>\n",
              "      <td>0</td>\n",
              "      <td>1</td>\n",
              "      <td>0</td>\n",
              "      <td>0</td>\n",
              "      <td>0</td>\n",
              "    </tr>\n",
              "    <tr>\n",
              "      <th>367</th>\n",
              "      <td>889</td>\n",
              "      <td>0.331936</td>\n",
              "      <td>0.564836</td>\n",
              "      <td>0.539216</td>\n",
              "      <td>0.551471</td>\n",
              "      <td>green</td>\n",
              "      <td>0</td>\n",
              "      <td>0</td>\n",
              "      <td>0</td>\n",
              "      <td>0</td>\n",
              "      <td>1</td>\n",
              "      <td>0</td>\n",
              "    </tr>\n",
              "    <tr>\n",
              "      <th>368</th>\n",
              "      <td>890</td>\n",
              "      <td>0.481640</td>\n",
              "      <td>0.501147</td>\n",
              "      <td>0.496446</td>\n",
              "      <td>0.544003</td>\n",
              "      <td>clear</td>\n",
              "      <td>0</td>\n",
              "      <td>0</td>\n",
              "      <td>0</td>\n",
              "      <td>1</td>\n",
              "      <td>0</td>\n",
              "      <td>0</td>\n",
              "    </tr>\n",
              "    <tr>\n",
              "      <th>369</th>\n",
              "      <td>896</td>\n",
              "      <td>0.294943</td>\n",
              "      <td>0.771286</td>\n",
              "      <td>0.583503</td>\n",
              "      <td>0.300618</td>\n",
              "      <td>clear</td>\n",
              "      <td>0</td>\n",
              "      <td>0</td>\n",
              "      <td>0</td>\n",
              "      <td>1</td>\n",
              "      <td>0</td>\n",
              "      <td>0</td>\n",
              "    </tr>\n",
              "    <tr>\n",
              "      <th>370</th>\n",
              "      <td>897</td>\n",
              "      <td>0.670200</td>\n",
              "      <td>0.768469</td>\n",
              "      <td>0.737274</td>\n",
              "      <td>0.608384</td>\n",
              "      <td>white</td>\n",
              "      <td>0</td>\n",
              "      <td>0</td>\n",
              "      <td>0</td>\n",
              "      <td>0</td>\n",
              "      <td>0</td>\n",
              "      <td>1</td>\n",
              "    </tr>\n",
              "  </tbody>\n",
              "</table>\n",
              "<p>371 rows × 12 columns</p>\n",
              "</div>\n",
              "      <button class=\"colab-df-convert\" onclick=\"convertToInteractive('df-28893acc-18c6-4e29-86a0-a05019255c3f')\"\n",
              "              title=\"Convert this dataframe to an interactive table.\"\n",
              "              style=\"display:none;\">\n",
              "        \n",
              "  <svg xmlns=\"http://www.w3.org/2000/svg\" height=\"24px\"viewBox=\"0 0 24 24\"\n",
              "       width=\"24px\">\n",
              "    <path d=\"M0 0h24v24H0V0z\" fill=\"none\"/>\n",
              "    <path d=\"M18.56 5.44l.94 2.06.94-2.06 2.06-.94-2.06-.94-.94-2.06-.94 2.06-2.06.94zm-11 1L8.5 8.5l.94-2.06 2.06-.94-2.06-.94L8.5 2.5l-.94 2.06-2.06.94zm10 10l.94 2.06.94-2.06 2.06-.94-2.06-.94-.94-2.06-.94 2.06-2.06.94z\"/><path d=\"M17.41 7.96l-1.37-1.37c-.4-.4-.92-.59-1.43-.59-.52 0-1.04.2-1.43.59L10.3 9.45l-7.72 7.72c-.78.78-.78 2.05 0 2.83L4 21.41c.39.39.9.59 1.41.59.51 0 1.02-.2 1.41-.59l7.78-7.78 2.81-2.81c.8-.78.8-2.07 0-2.86zM5.41 20L4 18.59l7.72-7.72 1.47 1.35L5.41 20z\"/>\n",
              "  </svg>\n",
              "      </button>\n",
              "      \n",
              "  <style>\n",
              "    .colab-df-container {\n",
              "      display:flex;\n",
              "      flex-wrap:wrap;\n",
              "      gap: 12px;\n",
              "    }\n",
              "\n",
              "    .colab-df-convert {\n",
              "      background-color: #E8F0FE;\n",
              "      border: none;\n",
              "      border-radius: 50%;\n",
              "      cursor: pointer;\n",
              "      display: none;\n",
              "      fill: #1967D2;\n",
              "      height: 32px;\n",
              "      padding: 0 0 0 0;\n",
              "      width: 32px;\n",
              "    }\n",
              "\n",
              "    .colab-df-convert:hover {\n",
              "      background-color: #E2EBFA;\n",
              "      box-shadow: 0px 1px 2px rgba(60, 64, 67, 0.3), 0px 1px 3px 1px rgba(60, 64, 67, 0.15);\n",
              "      fill: #174EA6;\n",
              "    }\n",
              "\n",
              "    [theme=dark] .colab-df-convert {\n",
              "      background-color: #3B4455;\n",
              "      fill: #D2E3FC;\n",
              "    }\n",
              "\n",
              "    [theme=dark] .colab-df-convert:hover {\n",
              "      background-color: #434B5C;\n",
              "      box-shadow: 0px 1px 3px 1px rgba(0, 0, 0, 0.15);\n",
              "      filter: drop-shadow(0px 1px 2px rgba(0, 0, 0, 0.3));\n",
              "      fill: #FFFFFF;\n",
              "    }\n",
              "  </style>\n",
              "\n",
              "      <script>\n",
              "        const buttonEl =\n",
              "          document.querySelector('#df-28893acc-18c6-4e29-86a0-a05019255c3f button.colab-df-convert');\n",
              "        buttonEl.style.display =\n",
              "          google.colab.kernel.accessAllowed ? 'block' : 'none';\n",
              "\n",
              "        async function convertToInteractive(key) {\n",
              "          const element = document.querySelector('#df-28893acc-18c6-4e29-86a0-a05019255c3f');\n",
              "          const dataTable =\n",
              "            await google.colab.kernel.invokeFunction('convertToInteractive',\n",
              "                                                     [key], {});\n",
              "          if (!dataTable) return;\n",
              "\n",
              "          const docLinkHtml = 'Like what you see? Visit the ' +\n",
              "            '<a target=\"_blank\" href=https://colab.research.google.com/notebooks/data_table.ipynb>data table notebook</a>'\n",
              "            + ' to learn more about interactive tables.';\n",
              "          element.innerHTML = '';\n",
              "          dataTable['output_type'] = 'display_data';\n",
              "          await google.colab.output.renderOutput(dataTable, element);\n",
              "          const docLink = document.createElement('div');\n",
              "          docLink.innerHTML = docLinkHtml;\n",
              "          element.appendChild(docLink);\n",
              "        }\n",
              "      </script>\n",
              "    </div>\n",
              "  </div>\n",
              "  "
            ]
          },
          "metadata": {},
          "execution_count": 11
        }
      ]
    },
    {
      "cell_type": "code",
      "metadata": {
        "id": "QgvAsWmdrjct"
      },
      "source": [
        "# Let's drop the 'id' and 'color' column as it doesn't help our classification\n",
        "train_features=train_features.drop([\"id\",\"color\"],axis=1)"
      ],
      "execution_count": null,
      "outputs": []
    },
    {
      "cell_type": "markdown",
      "metadata": {
        "id": "Mqs4gEXOrjct"
      },
      "source": [
        "**Answer:**\n",
        "* We have finished processing our feature variables for the training set.\n",
        "* We have also stored training targets into a separate variable."
      ]
    },
    {
      "cell_type": "markdown",
      "metadata": {
        "id": "pO7Q_SCIrjct"
      },
      "source": [
        "### Question 1.3 **(12 points)**\n",
        "In this part of the project, let's treat this as separate binary classification problems first. Suppose that now we are only interested in identifying all the `Ghosts`. Then effectively, we can think of the problem as having just two classes: Ghosts and Non-Ghosts.\n",
        "\n",
        "Repeat this process for each type and we effectively have done the so-called One-vs-all multi-class classification method.\n",
        "\n",
        "\n",
        "Let's first perform a Logistic Regression for the `Ghost` vs `Other` problem. Follow the steps:\n",
        "* Transform your target variables into 0s and 1s - 1 for `Ghost`, 0 for `Other` **(4 Points)**\n",
        "* Run a Logistic Regression **(8 Points)**\n",
        "    * Pick accuracy as the model evaluation metrics\n",
        "    * Construct a validation set / method, explain why you pick this validation method.\n",
        "    * Calculate and output the evaluation metrics on the validation set / method."
      ]
    },
    {
      "cell_type": "markdown",
      "metadata": {
        "id": "yeo161ivyBs7"
      },
      "source": [
        "#### Transform your target variables into 0s and 1s - 1 for `Ghost`, 0 for `Other` **(4 Points)**\n",
        "\n",
        "Make a new target variable called `train_target_ghost`, where\n",
        "* 1: if type = 'Ghost'\n",
        "* 0: otherwise\n",
        "\n",
        "**Hint: you can use Selection method in Pandas to achieve this**\n",
        "\n",
        "Your `train_target_ghost` should look like this:\n",
        "\n",
        "![image.png](https://i.loli.net/2021/04/29/gAhWN1rVEToxkDX.png)"
      ]
    },
    {
      "cell_type": "code",
      "metadata": {
        "id": "TRkQN1LIrjct",
        "colab": {
          "base_uri": "https://localhost:8080/"
        },
        "outputId": "1e9bbb76-32c5-408e-da04-e745bcb45ab3"
      },
      "source": [
        "# Next we need to process the target variables.\n",
        "# Note that we now only care about whether the creature is a Ghost or not - Binary Classification\n",
        "# Hint: you can use Selection method in Pandas to achieve this\n",
        "train_target_copy=train_target.copy()\n",
        "train_target_copy[train_target_copy==\"Ghost\"]=0\n",
        "train_target_copy[train_target_copy==\"Ghoul\"]=1\n",
        "train_target_copy[train_target_copy==\"Goblin\"]=2\n",
        "train_target[train_target==\"Ghost\"]=1\n",
        "train_target[train_target!=1]=0\n",
        "train_target_ghost=train_target\n",
        "print(train_target_ghost)\n",
        "print(train_target_copy)"
      ],
      "execution_count": null,
      "outputs": [
        {
          "output_type": "stream",
          "name": "stdout",
          "text": [
            "0      0\n",
            "1      0\n",
            "2      0\n",
            "3      0\n",
            "4      1\n",
            "      ..\n",
            "366    0\n",
            "367    1\n",
            "368    0\n",
            "369    1\n",
            "370    0\n",
            "Name: type, Length: 371, dtype: object\n",
            "0      1\n",
            "1      2\n",
            "2      1\n",
            "3      1\n",
            "4      0\n",
            "      ..\n",
            "366    2\n",
            "367    0\n",
            "368    1\n",
            "369    0\n",
            "370    1\n",
            "Name: type, Length: 371, dtype: object\n"
          ]
        },
        {
          "output_type": "stream",
          "name": "stderr",
          "text": [
            "/usr/local/lib/python3.7/dist-packages/ipykernel_launcher.py:8: SettingWithCopyWarning: \n",
            "A value is trying to be set on a copy of a slice from a DataFrame\n",
            "\n",
            "See the caveats in the documentation: https://pandas.pydata.org/pandas-docs/stable/user_guide/indexing.html#returning-a-view-versus-a-copy\n",
            "  \n",
            "/usr/local/lib/python3.7/dist-packages/ipykernel_launcher.py:9: SettingWithCopyWarning: \n",
            "A value is trying to be set on a copy of a slice from a DataFrame\n",
            "\n",
            "See the caveats in the documentation: https://pandas.pydata.org/pandas-docs/stable/user_guide/indexing.html#returning-a-view-versus-a-copy\n",
            "  if __name__ == '__main__':\n"
          ]
        }
      ]
    },
    {
      "cell_type": "markdown",
      "metadata": {
        "id": "TiLYpUwirjcu"
      },
      "source": [
        "**Answer:** we have transformed targets into 0 and 1 with `Ghost` being the positive case."
      ]
    },
    {
      "cell_type": "markdown",
      "metadata": {
        "id": "0URwwYL8t9dC"
      },
      "source": [
        "#### Split the training set into training vs validation set using the train_test split method\n",
        "\n",
        "You should have 4 variables ready:\n",
        "* X_train\n",
        "* X_valid\n",
        "* y_train_ghost\n",
        "* y_valid_ghost"
      ]
    },
    {
      "cell_type": "code",
      "metadata": {
        "id": "KwXuito0uGZ3",
        "colab": {
          "base_uri": "https://localhost:8080/"
        },
        "outputId": "c47c6c8d-3c7e-46a8-d165-662df1b1abf2"
      },
      "source": [
        "# split the dataset\n",
        "X=train_features\n",
        "y=train_target_ghost\n",
        "X_train, X_valid, y_train_ghost, y_valid_ghost = train_test_split(X, y, test_size=0.3, random_state=1, shuffle=True)\n",
        "\n",
        "X_train.shape, X_valid.shape, y_train_ghost.shape, y_valid_ghost.shape\n"
      ],
      "execution_count": null,
      "outputs": [
        {
          "output_type": "execute_result",
          "data": {
            "text/plain": [
              "((259, 10), (112, 10), (259,), (112,))"
            ]
          },
          "metadata": {},
          "execution_count": 14
        }
      ]
    },
    {
      "cell_type": "markdown",
      "metadata": {
        "id": "nKJPjAK6uMbJ"
      },
      "source": [
        "#### Run a Logistic Regression **(8 Points)**\n",
        "* Pick accuracy as the model evaluation metrics\n",
        "* Calculate and output the evaluation metrics on the validation set / method."
      ]
    },
    {
      "cell_type": "code",
      "metadata": {
        "id": "8FYh9ZIerjcu",
        "colab": {
          "base_uri": "https://localhost:8080/"
        },
        "outputId": "a9d7ca1f-fccd-4512-e84e-d0d080508de8"
      },
      "source": [
        "# Run a standard logistic regression\n",
        "reg=LogisticRegression()\n",
        "y_train_ghost=y_train_ghost.astype(int, copy=True, errors='raise')\n",
        "y_valid_ghost=y_valid_ghost.astype(int, copy=True, errors='raise')\n",
        "# Make model predictions on the validation set\n",
        "reg.fit(X_train,y_train_ghost)\n",
        "solution=reg.predict(X_valid)\n",
        "\n",
        "\n",
        "# Let's pick accuracy for our metrics\n",
        "scaler = StandardScaler()\n",
        "scaler.fit(X_train)\n",
        "X_train=scaler.transform(X_train)\n",
        "X_valid=scaler.transform(X_valid)\n",
        "reg=LogisticRegression()\n",
        "reg.fit(X=X_train,y=y_train_ghost)\n",
        "ghost_solution=reg.predict(X_valid)\n",
        "ghost_proba=reg.predict_proba(X_valid)\n",
        "ghost_proba=ghost_proba[:,1]\n",
        "print(ghost_proba)\n",
        "\n",
        "# calculate accuracy on the validation data\n",
        "(y_valid_ghost==ghost_solution).mean()"
      ],
      "execution_count": null,
      "outputs": [
        {
          "output_type": "stream",
          "name": "stdout",
          "text": [
            "[4.75575827e-03 9.67707003e-01 7.57704058e-02 6.13606985e-02\n",
            " 8.56029333e-01 5.23171330e-01 2.03288975e-04 9.91053653e-01\n",
            " 8.78879306e-02 4.30630885e-01 2.51719509e-02 9.40188614e-01\n",
            " 4.23334913e-01 9.97559015e-01 1.49226339e-01 6.76001235e-01\n",
            " 6.85703323e-01 9.25192090e-01 5.80376919e-05 5.63565378e-04\n",
            " 5.17545390e-01 7.69035579e-04 6.42726315e-04 8.39180546e-01\n",
            " 2.25047825e-01 4.35515561e-03 2.71876252e-01 8.48828203e-04\n",
            " 1.73368514e-03 2.74516356e-04 3.84449073e-02 9.98217138e-01\n",
            " 1.67600214e-03 9.98028631e-01 2.89312281e-03 8.72268972e-01\n",
            " 6.15144264e-01 9.08108721e-06 9.98823097e-01 8.46963533e-03\n",
            " 4.27342233e-04 2.12981260e-02 8.50851770e-03 2.43793331e-02\n",
            " 1.04193439e-04 1.86500187e-03 2.05224669e-02 9.67871421e-03\n",
            " 9.77276725e-03 4.99086610e-01 1.41855322e-01 3.26740966e-01\n",
            " 3.56448369e-01 2.98564858e-02 9.62886366e-01 6.18884511e-03\n",
            " 8.60269089e-01 2.37024834e-04 6.14244315e-05 4.69479998e-03\n",
            " 5.87347487e-01 1.52387356e-01 5.53050971e-02 9.42355055e-03\n",
            " 9.79961823e-01 1.98016213e-03 9.46234570e-03 1.33563401e-02\n",
            " 2.69555470e-02 2.35994448e-05 3.24515255e-03 8.73822894e-04\n",
            " 7.66410065e-03 1.44249010e-04 8.95338850e-01 8.70074718e-02\n",
            " 4.10782220e-03 1.50877956e-03 3.97328317e-04 6.47051697e-01\n",
            " 1.91866305e-02 1.22511499e-02 9.03649819e-01 9.59281559e-01\n",
            " 1.86033635e-01 7.60268834e-01 2.84442274e-01 6.60681804e-01\n",
            " 9.72889529e-01 8.96947248e-01 1.97512129e-02 3.33984004e-04\n",
            " 9.81850893e-05 6.97095205e-04 1.15394178e-01 4.38182026e-01\n",
            " 9.91807028e-04 9.11891661e-01 1.73151990e-03 6.71269033e-03\n",
            " 1.23150733e-01 8.15498677e-02 7.77480795e-01 3.66143854e-02\n",
            " 1.84776218e-01 2.25498667e-03 1.32067097e-01 1.58517202e-03\n",
            " 6.74673429e-01 7.54403092e-02 3.18092268e-06 1.17413410e-04]\n"
          ]
        },
        {
          "output_type": "execute_result",
          "data": {
            "text/plain": [
              "0.9017857142857143"
            ]
          },
          "metadata": {},
          "execution_count": 15
        }
      ]
    },
    {
      "cell_type": "markdown",
      "metadata": {
        "id": "YwZYpBO1rjcv"
      },
      "source": [
        "## Project Milestone #2 **(30 points)**\n",
        "\n",
        "\n",
        "In this part of the project, let's treat this as separate binary classification problems first. Suppose that now we are only interested in identifying all the `Ghosts`. Then effectively, we can think of the problem as having just two classes: Ghosts and Non-Ghosts.\n",
        "\n",
        "Repeat this process for each type and we effectively have done the so-called One-vs-all multi-class classification method. Let's explore this in Milestone #2"
      ]
    },
    {
      "cell_type": "markdown",
      "metadata": {
        "id": "GqpCbBoFk32g"
      },
      "source": [
        "## 2.1 One-vs-all method (30 points)\n",
        "In this part, finish up the one-vs-all method. (Same as in 2.1, if you have already finished 2.1, you can simply copy your code from there)\n",
        "\n",
        "\n",
        "Here is an outline of what you need to do in this part:\n",
        "\n",
        "\n",
        "1. Split your data into train and validation\n",
        "2. Run 3 separate Logistic Regression models on the following Binary Classification Problems\n",
        "  * Ghost-vs-all\n",
        "  * Ghoul-vs-all\n",
        "  * Goblin-vs-all\n",
        "3. For each validation sample\n",
        "  * Predict probabilities using the 3 Logistic Regression models above (you can use the function model.predict_proba, which will return 2 columns of probabilities, column 0 for Class 0 and column 1 for Class 1)\n",
        "  * For each sample row, you will need to make classification given the 3 probablities you got (Classification means: you need to decide whether the creature is Ghost, Ghoul or Goblin)\n",
        "4. After you have your predicted classes for all the validation data, calculate the accuracy of the One-vs-all model\n",
        "  * You will need 2 columns - your predicted class obtained in step 3 above, and the 'correct answers'\n",
        "  * Comparing the 2 columns and calculate your model accuracy\n",
        "\n"
      ]
    },
    {
      "cell_type": "code",
      "metadata": {
        "id": "bsad03M9iQzO",
        "colab": {
          "base_uri": "https://localhost:8080/"
        },
        "outputId": "dd9426f3-600e-4e58-ea0e-1469f5055f9f"
      },
      "source": [
        "# One-vs-all method code\n",
        "# You can add as many cells as you like\n",
        "# This is probably the harded part of the entire project\n",
        "# There are a lot of intermediate steps\n",
        "# Check your variables frequently and make sure you are on the right track before moving on\n",
        "# Your final output of this part is the accuracy (a number) of the One-vs-all model\n",
        "\n",
        "train_ghoul[train_ghoul==\"Ghoul\"]=1\n",
        "train_ghoul[train_ghoul!=1]=0\n",
        "train_target_ghoul=train_ghoul\n",
        "print(train_target_ghoul)"
      ],
      "execution_count": null,
      "outputs": [
        {
          "output_type": "stream",
          "name": "stdout",
          "text": [
            "0      1\n",
            "1      0\n",
            "2      1\n",
            "3      1\n",
            "4      0\n",
            "      ..\n",
            "366    0\n",
            "367    0\n",
            "368    1\n",
            "369    0\n",
            "370    1\n",
            "Name: type, Length: 371, dtype: object\n"
          ]
        }
      ]
    },
    {
      "cell_type": "code",
      "source": [
        "X=train_features\n",
        "y=train_target_ghoul\n",
        "X_train_ghoul, X_valid_ghoul, y_train_ghoul, y_valid_ghoul = train_test_split(X, y, test_size=0.3, random_state=1, shuffle=True)\n",
        "\n",
        "X_train_ghoul.shape, X_valid_ghoul.shape, y_train_ghoul.shape, y_valid_ghoul.shape\n",
        "y_train_ghoul=y_train_ghoul.astype(int, copy=True, errors='raise')\n",
        "y_valid_ghoul=y_valid_ghoul.astype(int, copy=True, errors='raise')"
      ],
      "metadata": {
        "id": "VLq0I9ovmR19"
      },
      "execution_count": null,
      "outputs": []
    },
    {
      "cell_type": "code",
      "source": [
        "scaler.fit(X_train_ghoul)\n",
        "X_train_ghoul=scaler.transform(X_train_ghoul)\n",
        "X_valid_ghoul=scaler.transform(X_valid_ghoul)\n",
        "reg.fit(X=X_train_ghoul,y=y_train_ghoul)\n",
        "ghoul_solution=reg.predict(X_valid_ghoul)\n",
        "print((y_valid_ghoul==ghoul_solution).mean())\n",
        "ghoul_proba=reg.predict_proba(X_valid_ghoul)\n",
        "ghoul_proba=ghoul_proba[:,1]\n",
        "print(ghoul_proba)"
      ],
      "metadata": {
        "colab": {
          "base_uri": "https://localhost:8080/"
        },
        "id": "aaMmTZAHmV1M",
        "outputId": "00bbfbb9-7f9a-4b4e-f845-117a27923c81"
      },
      "execution_count": null,
      "outputs": [
        {
          "output_type": "stream",
          "name": "stdout",
          "text": [
            "0.8125\n",
            "[0.84548733 0.00259298 0.60657642 0.23120818 0.0621295  0.09506814\n",
            " 0.97219932 0.00633493 0.05421835 0.03092395 0.34419161 0.0105422\n",
            " 0.0652891  0.00414131 0.02229177 0.04772003 0.08072072 0.01446386\n",
            " 0.99155048 0.94524026 0.00562945 0.94214649 0.50977572 0.04041633\n",
            " 0.55042503 0.59172613 0.15244732 0.80565076 0.86801584 0.91102928\n",
            " 0.43281683 0.00682913 0.70519983 0.00700618 0.60855164 0.03833867\n",
            " 0.01686211 0.99698906 0.00187551 0.67153004 0.90617598 0.82187323\n",
            " 0.69689514 0.21546162 0.9820868  0.88124451 0.25102566 0.80662325\n",
            " 0.54834897 0.2113489  0.03957897 0.20828146 0.04441231 0.41260542\n",
            " 0.00138228 0.71183752 0.08068201 0.95929078 0.95842534 0.50849653\n",
            " 0.02214994 0.149796   0.4369284  0.48056954 0.00116257 0.86375838\n",
            " 0.52802844 0.13685508 0.10558992 0.99306026 0.50650165 0.78966347\n",
            " 0.15628474 0.95528805 0.01841923 0.27361967 0.65466306 0.61938029\n",
            " 0.89667748 0.0935496  0.54189381 0.37273196 0.00586103 0.00588071\n",
            " 0.1241764  0.01159283 0.06809427 0.06875112 0.00293991 0.01980351\n",
            " 0.90992104 0.88578597 0.96820732 0.81906877 0.40567817 0.32915709\n",
            " 0.76078337 0.0150428  0.97524279 0.33662868 0.02977781 0.03613153\n",
            " 0.06519003 0.07353493 0.22542352 0.58368142 0.12850206 0.76220221\n",
            " 0.03057707 0.22488694 0.99771108 0.85883469]\n"
          ]
        }
      ]
    },
    {
      "cell_type": "code",
      "source": [
        "train_goblin[train_goblin==\"Goblin\"]=1\n",
        "train_goblin[train_goblin!=1]=0\n",
        "train_target_goblin=train_goblin\n",
        "print(train_target_goblin)"
      ],
      "metadata": {
        "colab": {
          "base_uri": "https://localhost:8080/"
        },
        "id": "llq_z9QzmZUG",
        "outputId": "cd246b31-f546-49c8-b68f-bbc64c461ca6"
      },
      "execution_count": null,
      "outputs": [
        {
          "output_type": "stream",
          "name": "stdout",
          "text": [
            "0      0\n",
            "1      1\n",
            "2      0\n",
            "3      0\n",
            "4      0\n",
            "      ..\n",
            "366    1\n",
            "367    0\n",
            "368    0\n",
            "369    0\n",
            "370    0\n",
            "Name: type, Length: 371, dtype: object\n"
          ]
        }
      ]
    },
    {
      "cell_type": "code",
      "source": [
        "X=train_features\n",
        "y=train_target_goblin\n",
        "X_train_goblin, X_valid_goblin, y_train_goblin, y_valid_goblin = train_test_split(X, y, test_size=0.3,random_state=1, shuffle=True)\n",
        "X_train.shape, X_valid.shape, y_train_goblin.shape, y_valid_goblin.shape\n",
        "y_train_goblin=y_train_goblin.astype(int, copy=True, errors='raise')\n",
        "y_valid_goblin=y_valid_goblin.astype(int, copy=True, errors='raise')"
      ],
      "metadata": {
        "id": "r0H74SI2mapY"
      },
      "execution_count": null,
      "outputs": []
    },
    {
      "cell_type": "code",
      "source": [
        "scaler.fit(X_train_goblin)\n",
        "X_train_goblin=scaler.transform(X_train_goblin)\n",
        "X_valid_goblin=scaler.transform(X_valid_goblin)\n",
        "reg.fit(X=X_train_goblin,y=y_train_goblin)\n",
        "goblin_solution=reg.predict(X_valid_goblin)\n",
        "print((y_valid_goblin==goblin_solution).mean())\n",
        "goblin_proba=reg.predict_proba(X_valid_goblin)\n",
        "goblin_proba=goblin_proba[:,1]\n",
        "print(goblin_proba)"
      ],
      "metadata": {
        "colab": {
          "base_uri": "https://localhost:8080/"
        },
        "id": "mVfOj0CRmcMV",
        "outputId": "0f1ae011-f3fd-4b00-9bee-3b49cfb77a18"
      },
      "execution_count": null,
      "outputs": [
        {
          "output_type": "stream",
          "name": "stdout",
          "text": [
            "0.7142857142857143\n",
            "[0.27690485 0.29411303 0.15154165 0.37211482 0.20202387 0.16628269\n",
            " 0.26194085 0.16353506 0.43619443 0.43150404 0.386512   0.20283762\n",
            " 0.32324967 0.13626835 0.57716382 0.27408166 0.28717299 0.16772484\n",
            " 0.20057396 0.23366954 0.54001792 0.22920802 0.727072   0.20924515\n",
            " 0.05940595 0.43875567 0.23637019 0.42931074 0.26265015 0.40648545\n",
            " 0.29852223 0.09523222 0.46052459 0.07552441 0.44057506 0.19575953\n",
            " 0.45039369 0.30983408 0.14448498 0.27061568 0.35999133 0.10988908\n",
            " 0.16945998 0.38097159 0.28444137 0.34012514 0.29837916 0.18298319\n",
            " 0.40268398 0.13478518 0.57305924 0.25095503 0.42453159 0.30364665\n",
            " 0.57275077 0.3907087  0.12199015 0.30240979 0.47373338 0.42799011\n",
            " 0.35780093 0.43855055 0.22746992 0.41422653 0.53819259 0.27231781\n",
            " 0.3826697  0.68069104 0.63010285 0.28614768 0.49732598 0.45595101\n",
            " 0.59700449 0.38270811 0.24349787 0.1845523  0.38224255 0.4031532\n",
            " 0.38052543 0.1696973  0.29065393 0.43703846 0.53560546 0.31781587\n",
            " 0.33535158 0.46896391 0.40698702 0.29823162 0.4026543  0.36358166\n",
            " 0.08403783 0.42025261 0.37869216 0.49065503 0.18471715 0.10094994\n",
            " 0.47490428 0.37085634 0.08820087 0.55772668 0.67318646 0.68978034\n",
            " 0.24108158 0.6880152  0.30650663 0.33389112 0.38777788 0.42986561\n",
            " 0.33551679 0.25645085 0.28510217 0.46037826]\n"
          ]
        }
      ]
    },
    {
      "cell_type": "code",
      "source": [
        "X=train_features\n",
        "y=train_target_copy\n",
        "X_train_copy, X_valid_copy, y_train_copy, y_valid_copy = train_test_split(X, y, test_size=0.3, random_state=1, shuffle=True)\n",
        "\n",
        "X_train_copy.shape, X_valid_copy.shape, y_train_copy.shape, y_valid_copy.shape"
      ],
      "metadata": {
        "colab": {
          "base_uri": "https://localhost:8080/"
        },
        "id": "KI0pBYFimdV5",
        "outputId": "a929692f-07c9-434a-b2c9-567e42b83436"
      },
      "execution_count": null,
      "outputs": [
        {
          "output_type": "execute_result",
          "data": {
            "text/plain": [
              "((259, 10), (112, 10), (259,), (112,))"
            ]
          },
          "metadata": {},
          "execution_count": 22
        }
      ]
    },
    {
      "cell_type": "code",
      "source": [
        "a1=[]\n",
        "b1=[]\n",
        "c1=[]\n",
        "for i in range(len(ghost_proba)):\n",
        "  a=ghost_proba[i]\n",
        "  a1.append(a)\n",
        "  b=ghoul_proba[i]\n",
        "  b1.append(b)\n",
        "  c=goblin_proba[i]\n",
        "  c1.append(c)\n",
        "a1=np.array(a1)\n",
        "b1=np.array(b1)\n",
        "c1=np.array(c1)\n",
        "a1=a1.reshape(-1,1)\n",
        "b1=b1.reshape(-1,1)\n",
        "c1=c1.reshape(-1,1)\n",
        "s=np.concatenate((a1,b1,c1),axis=1)\n",
        "\n",
        "target=[]\n",
        "for i in s:\n",
        "  target.append(i.argmax())\n",
        "print(target)\n",
        "\n",
        "\"\"\"lastSolution=[]\n",
        "for i in target:\n",
        "  if i==0:\n",
        "    lastSolution.append(1)\n",
        "  else:\n",
        "    lastSolution.append(0)\n",
        "print(lastSolution)\"\"\"\n",
        "print(list(y_valid_copy))\n",
        "(y_valid_copy==target).mean()"
      ],
      "metadata": {
        "colab": {
          "base_uri": "https://localhost:8080/"
        },
        "id": "o2cs37ptmevs",
        "outputId": "1973666f-2399-48e6-89a0-55ce0df0dca2"
      },
      "execution_count": null,
      "outputs": [
        {
          "output_type": "stream",
          "name": "stdout",
          "text": [
            "[1, 0, 1, 2, 0, 0, 1, 0, 2, 2, 2, 0, 0, 0, 2, 0, 0, 0, 1, 1, 2, 1, 2, 0, 1, 1, 0, 1, 1, 1, 1, 0, 1, 0, 1, 0, 0, 1, 0, 1, 1, 1, 1, 2, 1, 1, 2, 1, 1, 0, 2, 0, 2, 1, 0, 1, 0, 1, 1, 1, 0, 2, 1, 1, 0, 1, 1, 2, 2, 1, 1, 1, 2, 1, 0, 1, 1, 1, 1, 0, 1, 2, 0, 0, 2, 0, 2, 0, 0, 0, 1, 1, 1, 1, 1, 0, 1, 0, 1, 2, 2, 2, 0, 2, 2, 1, 2, 1, 0, 2, 1, 1]\n",
            "[2, 0, 2, 1, 0, 2, 1, 0, 1, 2, 1, 0, 0, 0, 2, 0, 0, 0, 1, 1, 2, 1, 2, 0, 0, 2, 0, 1, 1, 2, 2, 0, 1, 0, 2, 0, 2, 1, 0, 1, 1, 1, 1, 2, 1, 1, 1, 2, 1, 2, 0, 0, 2, 2, 0, 1, 0, 1, 1, 2, 0, 2, 2, 1, 0, 1, 1, 2, 2, 2, 1, 2, 2, 1, 0, 2, 1, 1, 1, 0, 2, 1, 0, 0, 2, 0, 2, 0, 0, 0, 1, 1, 1, 1, 1, 0, 1, 0, 1, 2, 2, 2, 0, 1, 2, 2, 2, 1, 2, 0, 1, 1]\n"
          ]
        },
        {
          "output_type": "execute_result",
          "data": {
            "text/plain": [
              "0.75"
            ]
          },
          "metadata": {},
          "execution_count": 23
        }
      ]
    },
    {
      "cell_type": "markdown",
      "metadata": {
        "id": "aLoQ5VBpjtcM"
      },
      "source": [
        "---\n",
        "## Project Milestone #3 **(20 points)**\n",
        "\n",
        "\n",
        "This is our final Milestone, here is an outline of what you need to do:\n",
        "\n",
        "\n",
        "1. (Optional) You can try building a different model, say a Neural Network\n",
        "2. Compare your models' performance on the validation set, and pick the best performing model.\n",
        "3. Use your best model to make final prediction on the test set and submit the submission file\n",
        "\n"
      ]
    },
    {
      "cell_type": "markdown",
      "source": [
        "## (Optional) Building Additional Models"
      ],
      "metadata": {
        "id": "gUJwMkTvw2B-"
      }
    },
    {
      "cell_type": "code",
      "source": [],
      "metadata": {
        "id": "3f408X7ew6ZQ"
      },
      "execution_count": null,
      "outputs": []
    },
    {
      "cell_type": "markdown",
      "source": [
        "## (Optional) Comparing Different Model Performance"
      ],
      "metadata": {
        "id": "53doQpKYw62X"
      }
    },
    {
      "cell_type": "code",
      "source": [],
      "metadata": {
        "id": "GbueCd8ew_hT"
      },
      "execution_count": null,
      "outputs": []
    },
    {
      "cell_type": "markdown",
      "metadata": {
        "id": "smXUbeEOrSuz"
      },
      "source": [
        "## Final submission (20 points)\n",
        "Whoo-hoo! Finally, we are ready to submit our predictions on the test set!\n",
        "\n",
        "Here is an outline of what you need to do in this part:\n",
        "1. Comparing the performance of all your models and pick the best one\n",
        "2. Train your best model one last time on the entire training+validation set using optimal settings\n",
        "3. Load the test.csv file: https://drive.google.com/file/d/1UhYjXWwH5L4BzUPWB9Iq5wO05_2SyMdm/view?usp=sharing\n",
        "4. Make final prediction on the test set\n",
        "  * Make sure you need to do all the transformation on the test set:\n",
        "    * One-hot-encoding\n",
        "    * Selecting the same variables\n",
        "    * etc\n",
        "5. Your final output is a Pandas Dataframe\n",
        "  * It should have only 2 columns: id, type\n",
        "  * For each row in the test set\n",
        "    * Keep the id and your prediction in the type column\n",
        "  * Save your final Dataframe into a csv file\n",
        "    * You can google pandas.DataFrame.to_csv and use that function\n",
        "  * Make sure your submission file looks the same as this sample file: https://drive.google.com/file/d/16sjX5ofIbmqU3FbK5cRiVpwRwLppMQxg/view?usp=sharing\n",
        "  * Rename your submission file into \"yourname_submission.csv\"\n",
        "6. Upload both your Notebook and submission file onto the Google Classroom"
      ]
    },
    {
      "cell_type": "code",
      "metadata": {
        "id": "y36MyoZho5Wp"
      },
      "source": [
        "# Final submission\n",
        "X=train_features\n",
        "X=scaler.transform(X)\n",
        "y1=true_train_target.copy()\n",
        "y2=true_train_target.copy()\n",
        "y3=true_train_target.copy()"
      ],
      "execution_count": null,
      "outputs": []
    },
    {
      "cell_type": "code",
      "source": [
        "y1[y1==\"Ghost\"]=1\n",
        "y1[y1!=1]=0\n",
        "y2[y2==\"Ghoul\"]=1\n",
        "y2[y2!=1]=0\n",
        "y3[y3==\"Goblin\"]=1\n",
        "y3[y3!=1]=0"
      ],
      "metadata": {
        "id": "byFY-0I0t7zI"
      },
      "execution_count": null,
      "outputs": []
    },
    {
      "cell_type": "code",
      "source": [
        "y1=y1.astype(int, copy=True, errors='raise')\n",
        "y2=y2.astype(int, copy=True, errors='raise')\n",
        "y3=y3.astype(int, copy=True, errors='raise')"
      ],
      "metadata": {
        "id": "fH3FsWhlCLjh"
      },
      "execution_count": null,
      "outputs": []
    },
    {
      "cell_type": "code",
      "source": [
        "test=pd.read_csv(\"/content/drive/MyDrive/test.csv\")\n",
        "color=pd.get_dummies(test[\"color\"])\n",
        "test2=pd.concat([test,color],axis=1)\n",
        "test2=test2.drop([\"id\",\"color\"],axis=1)"
      ],
      "metadata": {
        "id": "PlkuOfa7BSJa"
      },
      "execution_count": null,
      "outputs": []
    },
    {
      "cell_type": "code",
      "source": [
        "test2.head()"
      ],
      "metadata": {
        "colab": {
          "base_uri": "https://localhost:8080/",
          "height": 206
        },
        "id": "FsNLAzEzWYB-",
        "outputId": "57cae74a-5cc1-4acd-ac19-81c6d93b5b2e"
      },
      "execution_count": null,
      "outputs": [
        {
          "output_type": "execute_result",
          "data": {
            "text/plain": [
              "   bone_length  rotting_flesh  hair_length  has_soul  black  blood  blue  \\\n",
              "0     0.471774       0.387937     0.706087  0.698537      1      0     0   \n",
              "1     0.427332       0.645024     0.565558  0.451462      0      0     0   \n",
              "2     0.549602       0.491931     0.660387  0.449809      1      0     0   \n",
              "3     0.638095       0.682867     0.471409  0.356924      0      0     0   \n",
              "4     0.361762       0.583997     0.377256  0.276364      1      0     0   \n",
              "\n",
              "   clear  green  white  \n",
              "0      0      0      0  \n",
              "1      0      0      1  \n",
              "2      0      0      0  \n",
              "3      0      0      1  \n",
              "4      0      0      0  "
            ],
            "text/html": [
              "\n",
              "  <div id=\"df-3e71ec08-0421-4e32-be79-82a4a35a772e\">\n",
              "    <div class=\"colab-df-container\">\n",
              "      <div>\n",
              "<style scoped>\n",
              "    .dataframe tbody tr th:only-of-type {\n",
              "        vertical-align: middle;\n",
              "    }\n",
              "\n",
              "    .dataframe tbody tr th {\n",
              "        vertical-align: top;\n",
              "    }\n",
              "\n",
              "    .dataframe thead th {\n",
              "        text-align: right;\n",
              "    }\n",
              "</style>\n",
              "<table border=\"1\" class=\"dataframe\">\n",
              "  <thead>\n",
              "    <tr style=\"text-align: right;\">\n",
              "      <th></th>\n",
              "      <th>bone_length</th>\n",
              "      <th>rotting_flesh</th>\n",
              "      <th>hair_length</th>\n",
              "      <th>has_soul</th>\n",
              "      <th>black</th>\n",
              "      <th>blood</th>\n",
              "      <th>blue</th>\n",
              "      <th>clear</th>\n",
              "      <th>green</th>\n",
              "      <th>white</th>\n",
              "    </tr>\n",
              "  </thead>\n",
              "  <tbody>\n",
              "    <tr>\n",
              "      <th>0</th>\n",
              "      <td>0.471774</td>\n",
              "      <td>0.387937</td>\n",
              "      <td>0.706087</td>\n",
              "      <td>0.698537</td>\n",
              "      <td>1</td>\n",
              "      <td>0</td>\n",
              "      <td>0</td>\n",
              "      <td>0</td>\n",
              "      <td>0</td>\n",
              "      <td>0</td>\n",
              "    </tr>\n",
              "    <tr>\n",
              "      <th>1</th>\n",
              "      <td>0.427332</td>\n",
              "      <td>0.645024</td>\n",
              "      <td>0.565558</td>\n",
              "      <td>0.451462</td>\n",
              "      <td>0</td>\n",
              "      <td>0</td>\n",
              "      <td>0</td>\n",
              "      <td>0</td>\n",
              "      <td>0</td>\n",
              "      <td>1</td>\n",
              "    </tr>\n",
              "    <tr>\n",
              "      <th>2</th>\n",
              "      <td>0.549602</td>\n",
              "      <td>0.491931</td>\n",
              "      <td>0.660387</td>\n",
              "      <td>0.449809</td>\n",
              "      <td>1</td>\n",
              "      <td>0</td>\n",
              "      <td>0</td>\n",
              "      <td>0</td>\n",
              "      <td>0</td>\n",
              "      <td>0</td>\n",
              "    </tr>\n",
              "    <tr>\n",
              "      <th>3</th>\n",
              "      <td>0.638095</td>\n",
              "      <td>0.682867</td>\n",
              "      <td>0.471409</td>\n",
              "      <td>0.356924</td>\n",
              "      <td>0</td>\n",
              "      <td>0</td>\n",
              "      <td>0</td>\n",
              "      <td>0</td>\n",
              "      <td>0</td>\n",
              "      <td>1</td>\n",
              "    </tr>\n",
              "    <tr>\n",
              "      <th>4</th>\n",
              "      <td>0.361762</td>\n",
              "      <td>0.583997</td>\n",
              "      <td>0.377256</td>\n",
              "      <td>0.276364</td>\n",
              "      <td>1</td>\n",
              "      <td>0</td>\n",
              "      <td>0</td>\n",
              "      <td>0</td>\n",
              "      <td>0</td>\n",
              "      <td>0</td>\n",
              "    </tr>\n",
              "  </tbody>\n",
              "</table>\n",
              "</div>\n",
              "      <button class=\"colab-df-convert\" onclick=\"convertToInteractive('df-3e71ec08-0421-4e32-be79-82a4a35a772e')\"\n",
              "              title=\"Convert this dataframe to an interactive table.\"\n",
              "              style=\"display:none;\">\n",
              "        \n",
              "  <svg xmlns=\"http://www.w3.org/2000/svg\" height=\"24px\"viewBox=\"0 0 24 24\"\n",
              "       width=\"24px\">\n",
              "    <path d=\"M0 0h24v24H0V0z\" fill=\"none\"/>\n",
              "    <path d=\"M18.56 5.44l.94 2.06.94-2.06 2.06-.94-2.06-.94-.94-2.06-.94 2.06-2.06.94zm-11 1L8.5 8.5l.94-2.06 2.06-.94-2.06-.94L8.5 2.5l-.94 2.06-2.06.94zm10 10l.94 2.06.94-2.06 2.06-.94-2.06-.94-.94-2.06-.94 2.06-2.06.94z\"/><path d=\"M17.41 7.96l-1.37-1.37c-.4-.4-.92-.59-1.43-.59-.52 0-1.04.2-1.43.59L10.3 9.45l-7.72 7.72c-.78.78-.78 2.05 0 2.83L4 21.41c.39.39.9.59 1.41.59.51 0 1.02-.2 1.41-.59l7.78-7.78 2.81-2.81c.8-.78.8-2.07 0-2.86zM5.41 20L4 18.59l7.72-7.72 1.47 1.35L5.41 20z\"/>\n",
              "  </svg>\n",
              "      </button>\n",
              "      \n",
              "  <style>\n",
              "    .colab-df-container {\n",
              "      display:flex;\n",
              "      flex-wrap:wrap;\n",
              "      gap: 12px;\n",
              "    }\n",
              "\n",
              "    .colab-df-convert {\n",
              "      background-color: #E8F0FE;\n",
              "      border: none;\n",
              "      border-radius: 50%;\n",
              "      cursor: pointer;\n",
              "      display: none;\n",
              "      fill: #1967D2;\n",
              "      height: 32px;\n",
              "      padding: 0 0 0 0;\n",
              "      width: 32px;\n",
              "    }\n",
              "\n",
              "    .colab-df-convert:hover {\n",
              "      background-color: #E2EBFA;\n",
              "      box-shadow: 0px 1px 2px rgba(60, 64, 67, 0.3), 0px 1px 3px 1px rgba(60, 64, 67, 0.15);\n",
              "      fill: #174EA6;\n",
              "    }\n",
              "\n",
              "    [theme=dark] .colab-df-convert {\n",
              "      background-color: #3B4455;\n",
              "      fill: #D2E3FC;\n",
              "    }\n",
              "\n",
              "    [theme=dark] .colab-df-convert:hover {\n",
              "      background-color: #434B5C;\n",
              "      box-shadow: 0px 1px 3px 1px rgba(0, 0, 0, 0.15);\n",
              "      filter: drop-shadow(0px 1px 2px rgba(0, 0, 0, 0.3));\n",
              "      fill: #FFFFFF;\n",
              "    }\n",
              "  </style>\n",
              "\n",
              "      <script>\n",
              "        const buttonEl =\n",
              "          document.querySelector('#df-3e71ec08-0421-4e32-be79-82a4a35a772e button.colab-df-convert');\n",
              "        buttonEl.style.display =\n",
              "          google.colab.kernel.accessAllowed ? 'block' : 'none';\n",
              "\n",
              "        async function convertToInteractive(key) {\n",
              "          const element = document.querySelector('#df-3e71ec08-0421-4e32-be79-82a4a35a772e');\n",
              "          const dataTable =\n",
              "            await google.colab.kernel.invokeFunction('convertToInteractive',\n",
              "                                                     [key], {});\n",
              "          if (!dataTable) return;\n",
              "\n",
              "          const docLinkHtml = 'Like what you see? Visit the ' +\n",
              "            '<a target=\"_blank\" href=https://colab.research.google.com/notebooks/data_table.ipynb>data table notebook</a>'\n",
              "            + ' to learn more about interactive tables.';\n",
              "          element.innerHTML = '';\n",
              "          dataTable['output_type'] = 'display_data';\n",
              "          await google.colab.output.renderOutput(dataTable, element);\n",
              "          const docLink = document.createElement('div');\n",
              "          docLink.innerHTML = docLinkHtml;\n",
              "          element.appendChild(docLink);\n",
              "        }\n",
              "      </script>\n",
              "    </div>\n",
              "  </div>\n",
              "  "
            ]
          },
          "metadata": {},
          "execution_count": 41
        }
      ]
    },
    {
      "cell_type": "code",
      "source": [
        "test2=scaler.transform(test2)"
      ],
      "metadata": {
        "id": "voRTJ10YNdNv"
      },
      "execution_count": null,
      "outputs": []
    },
    {
      "cell_type": "code",
      "source": [
        "reg1=LogisticRegression()\n",
        "reg2=LogisticRegression()\n",
        "reg3=LogisticRegression()\n",
        "reg1.fit(X,y1)\n",
        "reg2.fit(X,y2)\n",
        "reg3.fit(X,y3)\n",
        "guiproba=reg1.predict_proba(test2)\n",
        "shishiguiproba=reg2.predict_proba(test2)\n",
        "gebulinproba=reg3.predict_proba(test2)\n",
        "print(guiproba)\n",
        "print(shishiguiproba)\n",
        "print(gebulinproba)"
      ],
      "metadata": {
        "colab": {
          "base_uri": "https://localhost:8080/"
        },
        "id": "y-WPB7w_Bwco",
        "outputId": "39ee3115-0c95-4bc4-aef2-8166bf975001"
      },
      "execution_count": null,
      "outputs": [
        {
          "output_type": "stream",
          "name": "stdout",
          "text": [
            "[[9.99809193e-01 1.90807354e-04]\n",
            " [8.17287034e-01 1.82712966e-01]\n",
            " [9.93729010e-01 6.27099001e-03]\n",
            " ...\n",
            " [9.99753960e-01 2.46039850e-04]\n",
            " [9.08931555e-04 9.99091068e-01]\n",
            " [2.78780729e-02 9.72121927e-01]]\n",
            "[[0.10060261 0.89939739]\n",
            " [0.72259382 0.27740618]\n",
            " [0.36430928 0.63569072]\n",
            " ...\n",
            " [0.07344319 0.92655681]\n",
            " [0.99669302 0.00330698]\n",
            " [0.98054418 0.01945582]]\n",
            "[[0.50811304 0.49188696]\n",
            " [0.82121204 0.17878796]\n",
            " [0.65590372 0.34409628]\n",
            " ...\n",
            " [0.69208079 0.30791921]\n",
            " [0.87738628 0.12261372]\n",
            " [0.84018094 0.15981906]]\n"
          ]
        }
      ]
    },
    {
      "cell_type": "code",
      "source": [
        "guiproba=guiproba[:,1]\n",
        "shishiguiproba=shishiguiproba[:,1]\n",
        "gebulinproba=gebulinproba[:,1]"
      ],
      "metadata": {
        "id": "4n0FOuGUFmME"
      },
      "execution_count": null,
      "outputs": []
    },
    {
      "cell_type": "code",
      "source": [
        "zyn=[]\n",
        "sjm=[]\n",
        "yxy=[]\n",
        "for i in range(len(ghost_proba)):\n",
        "  zyn1=guiproba[i]\n",
        "  zyn.append(zyn1)\n",
        "  sjm1=shishiguiproba[i]\n",
        "  sjm.append(sjm1)\n",
        "  yxy1=gebulinproba[i]\n",
        "  yxy.append(yxy1)\n",
        "zyn=np.array(zyn)\n",
        "sjm=np.array(sjm)\n",
        "yxy=np.array(yxy)\n",
        "zyn=zyn.reshape(-1,1)\n",
        "sjm=sjm.reshape(-1,1)\n",
        "yxy=yxy.reshape(-1,1)\n",
        "yss=np.concatenate((zyn,sjm,yxy),axis=1)\n",
        "\n",
        "target1=[]\n",
        "for i in yss:\n",
        "  target1.append(i.argmax())\n",
        "print(target1)"
      ],
      "metadata": {
        "colab": {
          "base_uri": "https://localhost:8080/"
        },
        "id": "LzJpR5QWGQmq",
        "outputId": "e34b437f-0ad4-4ea9-e226-ef23ff01d00d"
      },
      "execution_count": null,
      "outputs": [
        {
          "output_type": "stream",
          "name": "stdout",
          "text": [
            "[1, 1, 1, 0, 0, 0, 1, 1, 2, 1, 0, 1, 2, 0, 1, 0, 1, 0, 0, 1, 1, 1, 2, 2, 1, 2, 1, 2, 1, 1, 1, 1, 1, 2, 2, 1, 0, 1, 0, 1, 0, 1, 1, 1, 2, 1, 1, 1, 1, 0, 2, 1, 0, 2, 2, 0, 2, 1, 1, 0, 1, 1, 0, 2, 1, 1, 1, 1, 0, 1, 0, 0, 1, 1, 2, 1, 1, 2, 0, 2, 0, 2, 1, 1, 0, 0, 0, 2, 0, 0, 0, 0, 2, 2, 0, 0, 0, 2, 2, 0, 1, 2, 1, 0, 1, 1, 1, 0, 1, 1, 0, 2]\n"
          ]
        }
      ]
    },
    {
      "cell_type": "code",
      "source": [
        "last_solution=[]\n",
        "for i in target1:\n",
        "  if i==0:\n",
        "    last_solution.append(\"Ghost\")\n",
        "  elif i==1:\n",
        "    last_solution.append(\"Ghoul\")\n",
        "  else:\n",
        "    last_solution.append(\"Goblin\")\n",
        "print(last_solution)"
      ],
      "metadata": {
        "colab": {
          "base_uri": "https://localhost:8080/"
        },
        "id": "ocnBTD3lOfeD",
        "outputId": "69b3ec3d-e7b2-4f3d-80e5-ded58d4c5063"
      },
      "execution_count": null,
      "outputs": [
        {
          "output_type": "stream",
          "name": "stdout",
          "text": [
            "['Ghoul', 'Ghoul', 'Ghoul', 'Ghost', 'Ghost', 'Ghost', 'Ghoul', 'Ghoul', 'Goblin', 'Ghoul', 'Ghost', 'Ghoul', 'Goblin', 'Ghost', 'Ghoul', 'Ghost', 'Ghoul', 'Ghost', 'Ghost', 'Ghoul', 'Ghoul', 'Ghoul', 'Goblin', 'Goblin', 'Ghoul', 'Goblin', 'Ghoul', 'Goblin', 'Ghoul', 'Ghoul', 'Ghoul', 'Ghoul', 'Ghoul', 'Goblin', 'Goblin', 'Ghoul', 'Ghost', 'Ghoul', 'Ghost', 'Ghoul', 'Ghost', 'Ghoul', 'Ghoul', 'Ghoul', 'Goblin', 'Ghoul', 'Ghoul', 'Ghoul', 'Ghoul', 'Ghost', 'Goblin', 'Ghoul', 'Ghost', 'Goblin', 'Goblin', 'Ghost', 'Goblin', 'Ghoul', 'Ghoul', 'Ghost', 'Ghoul', 'Ghoul', 'Ghost', 'Goblin', 'Ghoul', 'Ghoul', 'Ghoul', 'Ghoul', 'Ghost', 'Ghoul', 'Ghost', 'Ghost', 'Ghoul', 'Ghoul', 'Goblin', 'Ghoul', 'Ghoul', 'Goblin', 'Ghost', 'Goblin', 'Ghost', 'Goblin', 'Ghoul', 'Ghoul', 'Ghost', 'Ghost', 'Ghost', 'Goblin', 'Ghost', 'Ghost', 'Ghost', 'Ghost', 'Goblin', 'Goblin', 'Ghost', 'Ghost', 'Ghost', 'Goblin', 'Goblin', 'Ghost', 'Ghoul', 'Goblin', 'Ghoul', 'Ghost', 'Ghoul', 'Ghoul', 'Ghoul', 'Ghost', 'Ghoul', 'Ghoul', 'Ghost', 'Goblin']\n"
          ]
        }
      ]
    },
    {
      "cell_type": "code",
      "source": [
        "solu=pd.DataFrame(last_solution)\n",
        "solu.to_csv(\"姚顺顺 final project solution（1）\")"
      ],
      "metadata": {
        "id": "4mipRdygS0hR"
      },
      "execution_count": null,
      "outputs": []
    },
    {
      "cell_type": "markdown",
      "metadata": {
        "id": "vsCU7Z7WtHgX"
      },
      "source": [
        "# Congratulations on finishing your first big project!!!"
      ]
    }
  ]
}